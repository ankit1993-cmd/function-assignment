{
  "nbformat": 4,
  "nbformat_minor": 0,
  "metadata": {
    "colab": {
      "provenance": []
    },
    "kernelspec": {
      "name": "python3",
      "display_name": "Python 3"
    },
    "language_info": {
      "name": "python"
    }
  },
  "cells": [
    {
      "cell_type": "markdown",
      "source": [
        "# function assignment\n",
        "1. what is difference between function and method in python\n",
        "   - in python, afunction is astandalone block of code defined with \"def\"\n",
        "  while a method is a function associeted with an object, defined within an object,difined within a class and called using dot notaion (object.method) method implicitly receive th object as their first argument.\n",
        "\n",
        "2. explain the concept of function argument and parameters in python\n",
        "   - in python , parameters are the variable listed in a function definition , while argument are the actual value passed to the function when it is called.\n",
        "\n",
        "3. what are the different ways to define and call a function in python.\n",
        "   - in python , function can be defined and called in various ways\n",
        "   - standard function(using def):\n",
        "   - lambda(anonymous) function:\n",
        "   - nested function(inside another function):\n",
        "   - genrator function(uses yield):\n",
        "   - decorated function(modified by a decorator)\n",
        "   calling function:-\n",
        "   - poitional argument:\n",
        "   - unpacking argument(using * for iterable, ** for dictionary)\n",
        "   - keword argument\n",
        "   - function reference(assign to a variable and call later):\n",
        "   - partial application(present argument with functools.partial):\n",
        "\n",
        "4. what is purpose of 'return' statement in python function\n",
        "   - the return, statement in python is used to end the execution of a function and return a value to the caller alllowing the output value to be used when the function is called.\n",
        "\n",
        "5. what are iterator in python and how do they differ from iterables.\n",
        "   - an iterator is an object that can be iterated over and maintains its state , while an iterable is an object that can be used to create an iterator.\n",
        "\n",
        "6. explain the concept of genretor in python and how they are defined\n",
        "   - in python generator is a speicel type of iterator that genrates values on-the-fly insted of storing them all in memory . they are memory effecient for large dataset or infinite sequences.\n",
        "   - using yield in a function:\n",
        "   define a function with the yield keyword instead of return. each yield pauses execution and returns a value ,resuming where it left off when iterated again.\n",
        "\n",
        "7. implement  a generator funtion that reads a file line by line and yields each line as string.\n",
        "  - def read_lines(file_ path):\n",
        "       with open(file_path, 'r') as file\n",
        "        for line in file\n",
        "        yield line\n",
        "\n",
        "8. what is lambda function in python and when is it typically used.\n",
        "   - a lambda function in python is an anonymous ,small,and inline function defined using the lambda keyword. unlike regular function created with def ,lambda function can have any number of arguments but only one expression ,which is eveluted and returned automatically .they are often used to short ,simple operation  where defining a full function would be unneccesory .\n",
        "\n",
        "9. explain the purpose and usage of the map() function in python.\n",
        "   - the map() function in python applies a specified function to every item in one or more iterables (like list,tuples) and return an iterator . it is used to concise ,efficient transformation without explicit loops.\n",
        "\n",
        "10. what is difference between map(), reduce(), and filter function in python.\n",
        "   - in python the map ()  function applies a given function to each item of an iterable and returns a map object ,which is iterator of the results\n",
        "   on the other hand ther filter() function filters elements from an iterable based on a condition ,returning an iterator of elements that return True when the function is called .\n",
        "   the reduce() function ,which is part of the funtools module, apllies a function to the teams of an iterable in a cumulative way, reducing the iterable to a single value.\n",
        "                                   "
      ],
      "metadata": {
        "id": "Ds35HaSeRmo4"
      }
    },
    {
      "cell_type": "markdown",
      "source": [
        "# function program\n"
      ],
      "metadata": {
        "id": "IO-VKwbNjbNI"
      }
    },
    {
      "cell_type": "code",
      "execution_count": null,
      "metadata": {
        "id": "8cyywbMKQZqJ"
      },
      "outputs": [],
      "source": [
        "#1. write a python function that takes a list of numbers as input and returns the sum of all even numbers in the list\n",
        "def sum_even_numbers(numbers)\n",
        " even_sum=0\n",
        " for num in numbers:\n",
        "  if num % 2 == 0:\n",
        "    even_sum += num\n",
        "    return even sum\n",
        "\n",
        "#2. create a python function that accepts a string and return the reverse of that string.\n",
        "def reverse_string(s)\n",
        "return s[::-1]\n",
        "\n",
        "#3. implement a python function that takes a list of integers and return a new list containing the square of each number.\n",
        "def square_numbers(numbers)\n",
        "  squared_numbers = []\n",
        "  for num in numbers:\n",
        "    squared_numbers.append(num ** 2)\n",
        "    return squared_numbers\n",
        "\n",
        "#4. write a python function that checks if a given number is prime or not from 1 to 200.\n",
        "def is_prime(n):\n",
        "  if n <= 1:\n",
        "    return False\n",
        "    for i in range (2, int(n**0.5) +1):\n",
        "      if n % i == 0:\n",
        "        return False\n",
        "      return true\n",
        "\n",
        "#5. create an iterator class in python that generates fibonacci sequence up to a specified number of the term.\n",
        "class fibonacciIterator:\n",
        "  def _init_ (self,term):\n",
        "    self.terms = terms\n",
        "    self.current_term = 0\n",
        "    self.a = 0\n",
        "    self.b = 1\n",
        "    def _iter_(self):\n",
        "      return self\n",
        "      def _next_(self):\n",
        "        if self.current_term >= self.terms:\n",
        "          raise stopiteration\n",
        "          else:\n",
        "            result = self.a\n",
        "            self.a, self.b = self.b, self.a + self.b\n",
        "            self.current_term += 1\n",
        "            return result\n",
        "\n",
        "#6. write a generator function in python that yields the power of 2 up to a given exponent.\n",
        "def power_of_two(exponent):\n",
        "  result = 1\n",
        "  for i in range (exponent + 1):\n",
        "    yield result\n",
        "    result *= 2\n",
        "\n",
        "#7. implement a generator function that reads a file line by line and yield each line as string.\n",
        "def read_file_line_by_line(file path):\n",
        "  with open(file_path, 'r', encoding='utf-8') as file:\n",
        "    for line in file:\n",
        "      yield line.rstrip('\\n')\n",
        "\n",
        "#8. use a lambda function in python to sort a list of tuples based on the second element of each tuple.\n",
        "tuples = [(2500, 'hadoop'), (2200,'spark'),(3000, 'python')]\n",
        "sorted_tuples = sorted(tuples, key=lambda x: x)\n",
        "print(sorted_tuples)\n",
        "\n",
        "#9. write a python program that uses map() to convert a list of temratures from celcius to fahrenheit.\n",
        "temperatures_celcius = [32,0,25,100]\n",
        "temperatures_fahrenheit = list(map(lambda c:(9/5)*c + 32,temeratures_celcius))\n",
        "print(temeretures_fahrenheit)\n",
        "\n",
        "#10. create a python program that uses filter() to remove all the vowels from a given string.\n",
        "def remove_vowels(string):\n",
        "  vowels = 'aeiouAEIOU'\n",
        "  return ''.join(filter(lambda x: x not in vowels, string))\n",
        "\n",
        "\n"
      ]
    },
    {
      "cell_type": "code",
      "source": [
        "_"
      ],
      "metadata": {
        "id": "2UnKvSaCn_nf"
      },
      "execution_count": null,
      "outputs": []
    }
  ]
}